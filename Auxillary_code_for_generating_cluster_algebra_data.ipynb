{
 "cells": [
  {
   "cell_type": "markdown",
   "metadata": {},
   "source": [
    "## Auxillary code for generating cluster algebra data"
   ]
  },
  {
   "cell_type": "markdown",
   "metadata": {},
   "source": [
    "This code is simply to generate the cluster algebra data we need for our machine learning. We use heavily the Sage cluster algebra package https://doc.sagemath.org/html/en/reference/algebras/sage/algebras/cluster_algebra.html which has an additional compendium https://arxiv.org/abs/1102.4844. This work is indepted to the papers [1,2] which served as an inspiration for this project.\n",
    "\n",
    "<cite data-cite=\"bao\">[1] Bao, Jiakang, et al. \"Quiver mutations, Seiberg duality, and machine learning.\" Physical Review D 102.8 (2020): 086013.</cite> https://arxiv.org/abs/2006.10783\n",
    "\n",
    "<cite data-cite=\"dechant\">[2] Dechant, Pierre-Philippe, et al. \"Cluster Algebras: Network Science and Machine Learning.\" arXiv preprint arXiv:2203.13847 (2022)."
   ]
  },
  {
   "cell_type": "code",
   "execution_count": 4,
   "metadata": {},
   "outputs": [],
   "source": [
    "# We need this auxillary function to make lists with unique elements. Apparently we can't use sets because of hashability.\n",
    "\n",
    "def check_not_in(list, element):\n",
    "    '''This checks if element is not in list. \n",
    "       Returns False if element is in list, True otherwise'''\n",
    "    for item in list:\n",
    "        if element == item:\n",
    "            return False\n",
    "    return True"
   ]
  },
  {
   "cell_type": "markdown",
   "metadata": {},
   "source": [
    "We first construct a function to reccursively search for new cluster seeds. The arguments are an initial seed and a depth $d$: we apply all mutation sequences of length $\\leq d$ to the initial seed and collect all obtained seeds. "
   ]
  },
  {
   "cell_type": "code",
   "execution_count": 2,
   "metadata": {},
   "outputs": [],
   "source": [
    "def seeds(seed, depth):\n",
    "    '''This gives all of the seeds in the mutation class of the initial seed, up to a given depth.\n",
    "       Inputs: The initial seed and the depth to check to\n",
    "       Outputs: The list of seeds'''\n",
    "    n = seed.n() # The cluster size\n",
    "    total_check = (n^depth-1) / (n-1) # This is the number of seeds we actually check, as a function of the depth\n",
    "    seeds = []\n",
    "    seeds_to_check = [seed]\n",
    "    checked_seeds = []\n",
    "    for i in range(1, total_check+1):\n",
    "        current_seed = seeds_to_check[0] # Take the first seed to check\n",
    "        if check_not_in(seeds, current_seed): # If not in seeds, we add it to the list\n",
    "            seeds.append(current_seed)\n",
    "        for j in range(0, n): # Now we look at the neighbours of current_seed\n",
    "            if check_not_in(seeds, current_seed.mutate(j, inplace=False)) and check_not_in(seeds_to_check, current_seed.mutate(j, inplace=False)): # If the neighbour isn't in seeds or\n",
    "                seeds_to_check.append(current_seed.mutate(j, inplace=False)) # seeds_to_check then we add to seeds_to_check\n",
    "        seeds_to_check.pop(0) # Finished checking current_seed, so remove it from seeds_to_check\n",
    "        if seeds_to_check == []:\n",
    "            break\n",
    "    return seeds"
   ]
  },
  {
   "cell_type": "markdown",
   "metadata": {},
   "source": [
    "We also need a function to just calculate the $b$-matrices. This is faster since it discards all information about cluster variables."
   ]
  },
  {
   "cell_type": "code",
   "execution_count": 8,
   "metadata": {},
   "outputs": [],
   "source": [
    "def quivers(init_quiver, depth):\n",
    "    '''This gives all of the quivers in the mutation class of the initial, up to a given depth.\n",
    "       Inputs: The initial quiver and the depth to check to\n",
    "       Outputs: The list of quivers'''\n",
    "    n = init_quiver.n() # The number of vertices\n",
    "    total_check = (n^depth-1) / (n-1) # This is the number of seeds we actually check, as a function of the depth\n",
    "    quivers = []\n",
    "    quivers_to_check = [init_quiver]\n",
    "    checked_quivers = []\n",
    "    for i in range(1, total_check+1):\n",
    "        print(f'Checked {i} of {total_check}')\n",
    "        current_quiver = quivers_to_check[0] # Take the first quiver to check\n",
    "        if check_not_in(quivers, current_quiver): # If not in quivers, we add it to the list\n",
    "            quivers.append(current_quiver)\n",
    "        for j in range(0, n): # Now we look at the neighbours of current_quiver\n",
    "            if check_not_in(quivers, current_quiver.mutate(j, inplace=False)) and check_not_in(quivers_to_check, current_quiver.mutate(j, inplace=False)):\n",
    "                quivers_to_check.append(current_quiver.mutate(j, inplace=False))  \n",
    "        quivers_to_check.pop(0) \n",
    "        if quivers_to_check == []:\n",
    "            return quivers\n",
    "    return quivers\n",
    "\n",
    "def b_matrices(init_quiver, depth):\n",
    "    quiver_set = quivers(init_quiver, depth)\n",
    "    return [quiver_set[i].b_matrix() for i in range(0, len(quiver_set))]"
   ]
  },
  {
   "cell_type": "markdown",
   "metadata": {},
   "source": [
    "For export we convert the $b$-matrices to vectors. We also need to keep track of which cluster algebra the matrix came from."
   ]
  },
  {
   "cell_type": "code",
   "execution_count": 4,
   "metadata": {},
   "outputs": [],
   "source": [
    "import csv\n",
    "\n",
    "def export_b_matrices(seed, seed_name, depth):\n",
    "    ''' This function converts the b matrices in the cluster algebra to a vector, and appends a label seed_name.\n",
    "        It then exports to a csv file\n",
    "    '''\n",
    "    data = b_matrices(seed, depth)\n",
    "    tagged_vector_data = [f'{seed_name}'] + [data[i].list() for i in range(0, len(data))]\n",
    "    with open(f'cluster_data_{seed_name}_depth_{depth}.csv', 'w') as f:\n",
    "        writer = csv.writer(f)\n",
    "        writer.writerow(tagged_vector_data)"
   ]
  },
  {
   "cell_type": "code",
   "execution_count": 1,
   "metadata": {},
   "outputs": [],
   "source": [
    "# export_b_matrices(ClusterQuiver(['A', 6]), 'A6', 6)"
   ]
  },
  {
   "cell_type": "code",
   "execution_count": 2,
   "metadata": {},
   "outputs": [],
   "source": [
    "# export_b_matrices(ClusterQuiver(['D', 6]), 'D6', 6)"
   ]
  },
  {
   "cell_type": "code",
   "execution_count": 3,
   "metadata": {},
   "outputs": [],
   "source": [
    "# export_b_matrices(ClusterQuiver(['E', 6]), 'E6', 6)"
   ]
  }
 ],
 "metadata": {
  "kernelspec": {
   "display_name": "SageMath 9.2",
   "language": "sage",
   "name": "sagemath"
  },
  "language_info": {
   "codemirror_mode": {
    "name": "ipython",
    "version": 3
   },
   "file_extension": ".py",
   "mimetype": "text/x-python",
   "name": "python",
   "nbconvert_exporter": "python",
   "pygments_lexer": "ipython3",
   "version": "3.7.7"
  }
 },
 "nbformat": 4,
 "nbformat_minor": 4
}
